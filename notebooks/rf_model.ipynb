{
 "cells": [
  {
   "cell_type": "markdown",
   "metadata": {},
   "source": [
    "# Random Forest Migraine Prediction\n",
    "\n",
    "This notebook demonstrates migraine prediction using a Random Forest model, leveraging the modular data processing and feature engineering functions from `prediction/data_processing.py`."
   ]
  },
  {
   "cell_type": "code",
   "execution_count": 1,
   "metadata": {},
   "outputs": [],
   "source": [
    "import sys\n",
    "import os\n",
    "sys.path.append(os.path.abspath(os.path.join(os.getcwd(), '..')))\n",
    "\n",
    "# 1. Import Libraries and Data Processing Functions\n",
    "from prediction.data_processing import merge_migraine_and_weather_data, process_combined_data\n",
    "from sklearn.model_selection import train_test_split\n",
    "from sklearn.ensemble import RandomForestRegressor\n",
    "from sklearn.metrics import accuracy_score, f1_score, r2_score, mean_absolute_error, mean_squared_error\n",
    "import pandas as pd\n",
    "import numpy as np"
   ]
  },
  {
   "cell_type": "markdown",
   "metadata": {},
   "source": [
    "## 2. Merge and Process Data\n",
    "We merge the migraine and weather data, then process the combined data to engineer features and prepare it for modeling."
   ]
  },
  {
   "cell_type": "code",
   "execution_count": 2,
   "metadata": {},
   "outputs": [],
   "source": [
    "# Merge migraine and weather data (regenerate combined_data.csv)\n",
    "merge_migraine_and_weather_data()\n",
    "\n",
    "# Load and process combined data\n",
    "combined_data = process_combined_data()"
   ]
  },
  {
   "cell_type": "markdown",
   "metadata": {},
   "source": [
    "## 3. Prepare Features and Target for Binary Classification\n",
    "We prepare the features and target variable for predicting whether a migraine occurred (binary classification)."
   ]
  },
  {
   "cell_type": "code",
   "execution_count": 3,
   "metadata": {},
   "outputs": [],
   "source": [
    "features = combined_data.dropna(axis=1)  # Drop columns with any NaN values\n",
    "features = features.drop(columns=[\n",
    "    'Date', 'date',\n",
    "    'Medication',\n",
    "    'Dosage',\n",
    "    'Triggers',\n",
    "    'Notes',\n",
    "    'Location',\n",
    "    'Timezone',\n",
    "    'Pain Level',\n",
    "    'Pain_Level_Binary',\n",
    "    'Pain_Level_Log',\n",
    "    'Longitude',\n",
    "    'Latitude',\n",
    "    'Time',\n",
    "    'Latitude_x', 'Longitude_x', 'Latitude_y', 'Longitude_y',\n",
    "],\n",
    "errors='ignore'\n",
    ")\n",
    "target_binary = combined_data['Pain_Level_Binary']"
   ]
  },
  {
   "cell_type": "markdown",
   "metadata": {},
   "source": [
    "## 4. Train and Evaluate Random Forest for Binary Classification\n",
    "We split the data, train a Random Forest model to predict migraine occurrence, and evaluate its performance."
   ]
  },
  {
   "cell_type": "code",
   "execution_count": 30,
   "metadata": {},
   "outputs": [
    {
     "name": "stdout",
     "output_type": "stream",
     "text": [
      "Fitting 3 folds for each of 24 candidates, totalling 72 fits\n",
      "Best parameters: {'class_weight': 'balanced', 'max_depth': None, 'min_samples_leaf': 1, 'min_samples_split': 2, 'n_estimators': 100}\n",
      "Best threshold for F1: 0.26, F1: 0.71\n",
      "Binary Classification Accuracy: 0.64\n",
      "Binary Classification F1 Score: 0.70\n"
     ]
    },
    {
     "data": {
      "image/png": "[encoded data removed]",
      "text/plain": [
       "<Figure size 640x480 with 2 Axes>"
      ]
     },
     "metadata": {},
     "output_type": "display_data"
    }
   ],
   "source": [
    "from sklearn.ensemble import RandomForestClassifier\n",
    "from imblearn.over_sampling import SMOTE\n",
    "from imblearn.under_sampling import RandomUnderSampler\n",
    "from imblearn.pipeline import Pipeline\n",
    "from sklearn.metrics import accuracy_score, f1_score, precision_recall_curve, average_precision_score, confusion_matrix, ConfusionMatrixDisplay\n",
    "import matplotlib.pyplot as plt\n",
    "\n",
    "# 1. Split data\n",
    "X_train_bin, X_test_bin, y_train_bin, y_test_bin = train_test_split(\n",
    "    features, target_binary, test_size=0.2, random_state=42\n",
    ")\n",
    "\n",
    "# 2. Resample training data (SMOTE + undersampling)\n",
    "resample = Pipeline([\n",
    "    ('smote', SMOTE(random_state=42)),\n",
    "    ('under', RandomUnderSampler(random_state=42))\n",
    "])\n",
    "X_train_bin_res, y_train_bin_res = resample.fit_resample(X_train_bin, y_train_bin)\n",
    "\n",
    "# 3. Hyperparameter tuning with GridSearchCV\n",
    "from sklearn.model_selection import GridSearchCV\n",
    "\n",
    "param_grid = {\n",
    "    'n_estimators': [100, 200],\n",
    "    'max_depth': [10, 20, None],\n",
    "    'min_samples_split': [2, 5],\n",
    "    'min_samples_leaf': [1, 2],\n",
    "    'class_weight': ['balanced']\n",
    "}\n",
    "\n",
    "grid = GridSearchCV(\n",
    "    RandomForestClassifier(random_state=42),\n",
    "    param_grid,\n",
    "    scoring='accuracy',  # or 'f1', 'recall'\n",
    "    cv=3,\n",
    "    n_jobs=-1,\n",
    "    verbose=1\n",
    ")\n",
    "grid.fit(X_train_bin_res, y_train_bin_res)\n",
    "clf = grid.best_estimator_\n",
    "print(\"Best parameters:\", grid.best_params_)\n",
    "\n",
    "# 4. Predict probabilities\n",
    "y_pred_proba = clf.predict_proba(X_test_bin)[:, 1]\n",
    "\n",
    "# 5. Precision-recall curve and best F1 threshold\n",
    "precision, recall, thresholds = precision_recall_curve(y_test_bin, y_pred_proba)\n",
    "ap = average_precision_score(y_test_bin, y_pred_proba)\n",
    "f1_scores = 2 * (precision * recall) / (precision + recall + 1e-8)\n",
    "best_idx = f1_scores.argmax()\n",
    "best_threshold = thresholds[best_idx]\n",
    "print(f\"Best threshold for F1: {best_threshold:.2f}, F1: {f1_scores[best_idx]:.2f}\")\n",
    "\n",
    "\"\"\" plt.figure(figsize=(8,6))\n",
    "plt.plot(recall, precision, marker='.')\n",
    "plt.xlabel('Recall')\n",
    "plt.ylabel('Precision')\n",
    "plt.title(f'Precision-Recall Curve (AP={ap:.2f})')\n",
    "plt.grid(True)\n",
    "plt.show() \"\"\"\n",
    "\n",
    "# 6. Final predictions using best threshold\n",
    "y_pred_bin = (y_pred_proba > best_threshold).astype(int)\n",
    "\n",
    "# 7. Evaluation\n",
    "accuracy = accuracy_score(y_test_bin, y_pred_bin)\n",
    "f1 = f1_score(y_test_bin, y_pred_bin)\n",
    "print(f\"Binary Classification Accuracy: {accuracy:.2f}\")\n",
    "print(f\"Binary Classification F1 Score: {f1:.2f}\")\n",
    "\n",
    "# 8. Confusion matrix\n",
    "cm = confusion_matrix(y_test_bin, y_pred_bin)\n",
    "disp = ConfusionMatrixDisplay(confusion_matrix=cm)\n",
    "disp.plot(cmap='Blues')\n",
    "plt.title(\"Random Forest Binary Classification Confusion Matrix\")\n",
    "plt.show()"
   ]
  },
  {
   "cell_type": "markdown",
   "metadata": {},
   "source": [
    "---"
   ]
  },
  {
   "cell_type": "markdown",
   "metadata": {},
   "source": [
    "## 5. Prepare Features and Target for Regression (Pain Level)\n",
    "We select only the non-zero pain level cases and prepare the features and log-transformed target for regression."
   ]
  },
  {
   "cell_type": "code",
   "execution_count": 14,
   "metadata": {},
   "outputs": [],
   "source": [
    "non_zero_data = combined_data[combined_data['Pain Level'] > 0]\n",
    "features_non_zero = non_zero_data.drop(columns=[\n",
    "    'Date', 'date',\n",
    "    'Medication',\n",
    "    'Dosage',\n",
    "    'Triggers',\n",
    "    'Notes',\n",
    "    'Location',\n",
    "    'Timezone',\n",
    "    'Pain Level',\n",
    "    'Pain_Level_Binary',\n",
    "    'Pain_Level_Log',\n",
    "    'Longitude',\n",
    "    'Latitude',\n",
    "    'Time',\n",
    "    'Latitude_x', 'Longitude_x', 'Latitude_y', 'Longitude_y',\n",
    "],\n",
    "errors='ignore'\n",
    ")\n",
    "target_non_zero = non_zero_data['Pain_Level_Log']  # Use precomputed log column"
   ]
  },
  {
   "cell_type": "markdown",
   "metadata": {},
   "source": [
    "## 6. Train and Evaluate Random Forest for Regression\n",
    "We split the data, train a Random Forest model to predict pain level, and evaluate its performance."
   ]
  },
  {
   "cell_type": "code",
   "execution_count": 6,
   "metadata": {},
   "outputs": [
    {
     "name": "stdout",
     "output_type": "stream",
     "text": [
      "Regression Model R^2 score: 0.14492176055411998\n",
      "Mean Absolute Error (MAE): 0.2120808445065962\n",
      "Mean Squared Error (MSE): 0.07579712617277667\n",
      "Root Mean Squared Error (RMSE): 0.2753127788039935\n"
     ]
    }
   ],
   "source": [
    "# Split data into training and testing sets for regression\n",
    "X_train_reg, X_test_reg, y_train_reg, y_test_reg = train_test_split(features_non_zero, target_non_zero, test_size=0.2, random_state=42)\n",
    "\n",
    "# Train a regression model\n",
    "best_params = {'bootstrap': True, 'max_depth': 30, 'min_samples_leaf': 1, 'min_samples_split': 2, 'n_estimators': 200}\n",
    "reg = RandomForestRegressor(**best_params)\n",
    "reg.fit(X_train_reg, y_train_reg)\n",
    "\n",
    "# Make predictions for regression\n",
    "y_pred_reg = reg.predict(X_test_reg)\n",
    "\n",
    "# Evaluate the regression model\n",
    "r2 = r2_score(y_test_reg, y_pred_reg)\n",
    "mae = mean_absolute_error(y_test_reg, y_pred_reg)\n",
    "mse = mean_squared_error(y_test_reg, y_pred_reg)\n",
    "rmse = np.sqrt(mse)\n",
    "\n",
    "print(f\"Regression Model R^2 score: {r2}\")\n",
    "print(f\"Mean Absolute Error (MAE): {mae}\")\n",
    "print(f\"Mean Squared Error (MSE): {mse}\")\n",
    "print(f\"Root Mean Squared Error (RMSE): {rmse}\")"
   ]
  },
  {
   "cell_type": "markdown",
   "metadata": {},
   "source": [
    "## 7. Feature Importance for Regression Model\n",
    "We examine which features are most important for predicting pain level using the trained Random Forest regressor."
   ]
  },
  {
   "cell_type": "code",
   "execution_count": 15,
   "metadata": {},
   "outputs": [
    {
     "name": "stdout",
     "output_type": "stream",
     "text": [
      "Feature importances for regression model:\n",
      "                  Feature  Importance\n",
      "36            humid.*tavg    0.218023\n",
      "8         midday_humidity    0.108629\n",
      "35              tavg_lag2    0.074267\n",
      "7        average_humidity    0.062354\n",
      "38       pres_change_lag2    0.059817\n",
      "5                    wspd    0.059684\n",
      "9             pres_change    0.049002\n",
      "37       pres_change_lag1    0.046409\n",
      "0                    tavg    0.045877\n",
      "3                    pres    0.041404\n",
      "34              tavg_lag1    0.034301\n",
      "2                    tmax    0.030391\n",
      "1                    tmin    0.029187\n",
      "33                  tdiff    0.025634\n",
      "16            DayOfWeek_6    0.014398\n",
      "4                    prcp    0.012616\n",
      "28               Month_12    0.009320\n",
      "31  Physical Activity_0.0    0.007646\n",
      "19                Month_3    0.006646\n",
      "14            DayOfWeek_4    0.005949\n",
      "20                Month_4    0.005717\n",
      "32  Physical Activity_1.0    0.005534\n",
      "11            DayOfWeek_1    0.004662\n",
      "29              Sleep_1.0    0.004269\n",
      "17                Month_1    0.004121\n",
      "26               Month_10    0.003858\n",
      "10            DayOfWeek_0    0.003643\n",
      "15            DayOfWeek_5    0.003565\n",
      "12            DayOfWeek_2    0.003454\n",
      "30              Sleep_2.0    0.003365\n",
      "25                Month_9    0.003330\n",
      "23                Month_7    0.002987\n",
      "13            DayOfWeek_3    0.002736\n",
      "21                Month_5    0.001859\n",
      "22                Month_6    0.001683\n",
      "18                Month_2    0.001615\n",
      "27               Month_11    0.001569\n",
      "24                Month_8    0.000478\n",
      "6                    tsun    0.000000\n"
     ]
    }
   ],
   "source": [
    "feature_importances = reg.feature_importances_\n",
    "feature_names = features_non_zero.columns\n",
    "importance_df = pd.DataFrame({'Feature': feature_names, 'Importance': feature_importances})\n",
    "importance_df = importance_df.sort_values(by='Importance', ascending=False)\n",
    "\n",
    "print(\"Feature importances for regression model:\")\n",
    "print(importance_df)"
   ]
  }
 ],
 "metadata": {
  "kernelspec": {
   "display_name": ".venv",
   "language": "python",
   "name": "python3"
  },
  "language_info": {
   "codemirror_mode": {
    "name": "ipython",
    "version": 3
   },
   "file_extension": ".py",
   "mimetype": "text/x-python",
   "name": "python",
   "nbconvert_exporter": "python",
   "pygments_lexer": "ipython3",
   "version": "3.12.6"
  }
 },
 "nbformat": 4,
 "nbformat_minor": 2
}
