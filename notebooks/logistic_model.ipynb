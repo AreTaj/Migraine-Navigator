{
 "cells": [
  {
   "cell_type": "code",
   "execution_count": 1,
   "id": "b88421a8",
   "metadata": {},
   "outputs": [],
   "source": [
    "import sys\n",
    "import os\n",
    "sys.path.append(os.path.abspath(os.path.join(os.getcwd(), '..')))\n",
    "\n",
    "# 1. Import Libraries and Data Processing Functions\n",
    "from prediction.data_processing import merge_migraine_and_weather_data, process_combined_data\n",
    "from sklearn.model_selection import train_test_split\n",
    "from sklearn.linear_model import LogisticRegression\n",
    "from sklearn.metrics import accuracy_score, f1_score, precision_recall_curve, average_precision_score, confusion_matrix, ConfusionMatrixDisplay\n",
    "import pandas as pd\n",
    "import numpy as np"
   ]
  },
  {
   "cell_type": "markdown",
   "id": "f986fa77",
   "metadata": {},
   "source": [
    "## 2. Merge and Process Data\n",
    "We merge the migraine and weather data, then process the combined data to engineer features and prepare it for modeling."
   ]
  },
  {
   "cell_type": "code",
   "execution_count": 2,
   "id": "7e9535d2",
   "metadata": {},
   "outputs": [],
   "source": [
    "# Merge migraine and weather data (regenerate combined_data.csv)\n",
    "merge_migraine_and_weather_data()\n",
    "\n",
    "# Load and process combined data\n",
    "combined_data = process_combined_data()"
   ]
  },
  {
   "cell_type": "markdown",
   "id": "424678be",
   "metadata": {},
   "source": [
    "## 3. Prepare Features and Target for Binary Classification\n",
    "We prepare the features and target variable for predicting whether a migraine occurred (binary classification)."
   ]
  },
  {
   "cell_type": "code",
   "execution_count": 3,
   "id": "471b2db6",
   "metadata": {},
   "outputs": [],
   "source": [
    "features = combined_data.dropna(axis=1)  # Drop columns with any NaN values\n",
    "features = features.drop(columns=[\n",
    "    'Date', 'date',\n",
    "    'Medication',\n",
    "    'Dosage',\n",
    "    'Triggers',\n",
    "    'Notes',\n",
    "    'Location',\n",
    "    'Timezone',\n",
    "    'Pain Level',\n",
    "    'Pain_Level_Binary',\n",
    "    'Pain_Level_Log',\n",
    "    'Longitude',\n",
    "    'Latitude',\n",
    "    'Time',\n",
    "    'Latitude_x', 'Longitude_x', 'Latitude_y', 'Longitude_y',\n",
    "],\n",
    "errors='ignore'\n",
    " )\n",
    "target_binary = combined_data['Pain_Level_Binary']"
   ]
  },
  {
   "cell_type": "markdown",
   "id": "4e0e2960",
   "metadata": {},
   "source": [
    "## 4. Train and Evaluate Logistic Regression for Binary Classification\n",
    "We split the data, train a Logistic Regression model to predict migraine occurrence, and evaluate its performance. Class imbalance is addressed using class weights and resampling."
   ]
  },
  {
   "cell_type": "code",
   "execution_count": 7,
   "id": "e9207cba",
   "metadata": {},
   "outputs": [
    {
     "name": "stdout",
     "output_type": "stream",
     "text": [
      "Best parameters: {'C': 10, 'class_weight': 'balanced', 'penalty': 'l2', 'solver': 'lbfgs'}\n",
      "Best threshold for F1: 0.23, F1: 0.67\n",
      "Best threshold for Accuracy: 0.41, Accuracy: 0.60\n",
      "Binary Classification Accuracy (maximized): 0.60\n",
      "Binary Classification F1 Score (at accuracy threshold): 0.63\n"
     ]
    },
    {
     "data": {
      "image/png": "[encoded data removed]",
      "text/plain": [
       "<Figure size 640x480 with 2 Axes>"
      ]
     },
     "metadata": {},
     "output_type": "display_data"
    }
   ],
   "source": [
    "import warnings\n",
    "warnings.filterwarnings('ignore', category=UserWarning)\n",
    "warnings.filterwarnings('ignore', category=FutureWarning)\n",
    "warnings.filterwarnings('ignore', category=RuntimeWarning)\n",
    "\n",
    "from imblearn.over_sampling import SMOTE\n",
    "from imblearn.under_sampling import RandomUnderSampler\n",
    "from imblearn.pipeline import Pipeline\n",
    "from sklearn.model_selection import GridSearchCV\n",
    "import matplotlib.pyplot as plt\n",
    "\n",
    "# 1. Split data\n",
    "X_train, X_test, y_train, y_test = train_test_split(\n",
    "    features, target_binary, test_size=0.2, random_state=42\n",
    ")\n",
    "\n",
    "# 2. Resample training data (SMOTE + undersampling)\n",
    "resample = Pipeline([\n",
    "    ('smote', SMOTE(random_state=42)),\n",
    "    ('under', RandomUnderSampler(random_state=42))\n",
    "])\n",
    "X_train_res, y_train_res = resample.fit_resample(X_train, y_train)\n",
    "\n",
    "# 3. Hyperparameter tuning with GridSearchCV\n",
    "param_grid = {\n",
    "    'C': [0.1, 1, 10],\n",
    "    'penalty': ['l2'],\n",
    "    'solver': ['lbfgs'],\n",
    "    'class_weight': ['balanced']\n",
    "}\n",
    "\n",
    "grid = GridSearchCV(\n",
    "    LogisticRegression(max_iter=1000, random_state=42),\n",
    "    param_grid,\n",
    "    scoring='f1',\n",
    "    cv=3,\n",
    "    n_jobs=-1,\n",
    "    verbose=0\n",
    ")\n",
    "grid.fit(X_train_res, y_train_res)\n",
    "clf = grid.best_estimator_\n",
    "print(\"Best parameters:\", grid.best_params_)\n",
    "\n",
    "# 4. Predict probabilities\n",
    "y_pred_proba = clf.predict_proba(X_test)[:, 1]\n",
    "\n",
    "# 5. Precision-recall curve and best F1 threshold\n",
    "precision, recall, thresholds = precision_recall_curve(y_test, y_pred_proba)\n",
    "ap = average_precision_score(y_test, y_pred_proba)\n",
    "f1_scores = 2 * (precision * recall) / (precision + recall + 1e-8)\n",
    "best_f1_idx = f1_scores.argmax()\n",
    "best_f1_threshold = thresholds[best_f1_idx]\n",
    "print(f\"Best threshold for F1: {best_f1_threshold:.2f}, F1: {f1_scores[best_f1_idx]:.2f}\")\n",
    "\n",
    "# Find threshold that maximizes accuracy\n",
    "acc_scores = [accuracy_score(y_test, (y_pred_proba > t).astype(int)) for t in thresholds]\n",
    "best_acc_idx = int(np.argmax(acc_scores))\n",
    "best_acc_threshold = thresholds[best_acc_idx]\n",
    "print(f\"Best threshold for Accuracy: {best_acc_threshold:.2f}, Accuracy: {acc_scores[best_acc_idx]:.2f}\")\n",
    "\n",
    "\"\"\" plt.figure(figsize=(8,6))\n",
    "plt.plot(recall, precision, marker='.')\n",
    "plt.xlabel('Recall')\n",
    "plt.ylabel('Precision')\n",
    "plt.title(f'Precision-Recall Curve (AP={ap:.2f})')\n",
    "plt.grid(True)\n",
    "plt.show() \"\"\"\n",
    "\n",
    "# 6. Final predictions using best accuracy threshold\n",
    "y_pred = (y_pred_proba > best_acc_threshold).astype(int)\n",
    "\n",
    "# 7. Evaluation\n",
    "accuracy = accuracy_score(y_test, y_pred)\n",
    "f1 = f1_score(y_test, y_pred)\n",
    "print(f\"Binary Classification Accuracy (maximized): {accuracy:.2f}\")\n",
    "print(f\"Binary Classification F1 Score (at accuracy threshold): {f1:.2f}\")\n",
    "\n",
    "# 8. Confusion matrix\n",
    "cm = confusion_matrix(y_test, y_pred)\n",
    "disp = ConfusionMatrixDisplay(confusion_matrix=cm)\n",
    "disp.plot(cmap='Blues')\n",
    "plt.title(\"Logistic Regression Confusion Matrix (Accuracy-Optimized Threshold)\")\n",
    "plt.show()"
   ]
  },
  {
   "cell_type": "markdown",
   "id": "979aa7c3",
   "metadata": {},
   "source": [
    "# Logistic Regression Migraine Prediction\n",
    "\n",
    "This notebook demonstrates migraine prediction using a Logistic Regression model. The workflow follows the structure of the Random Forest notebook, focusing on binary classification (migraine vs. no migraine) and addressing class imbalance."
   ]
  }
 ],
 "metadata": {
  "kernelspec": {
   "display_name": ".venv",
   "language": "python",
   "name": "python3"
  },
  "language_info": {
   "codemirror_mode": {
    "name": "ipython",
    "version": 3
   },
   "file_extension": ".py",
   "mimetype": "text/x-python",
   "name": "python",
   "nbconvert_exporter": "python",
   "pygments_lexer": "ipython3",
   "version": "3.12.6"
  }
 },
 "nbformat": 4,
 "nbformat_minor": 5
}
